{
 "cells": [
  {
   "cell_type": "markdown",
   "metadata": {},
   "source": [
    "# Importing necessary libraries (numpy, matplotlib, pandas, sklearn)"
   ]
  },
  {
   "cell_type": "code",
   "execution_count": 601,
   "metadata": {},
   "outputs": [],
   "source": [
    "import numpy as np\n",
    "import matplotlib\n",
    "import matplotlib.pyplot as plt\n",
    "import pandas as pd\n",
    "from sklearn import tree\n",
    "from sklearn.linear_model import LogisticRegression\n",
    "from sklearn.feature_extraction import DictVectorizer as DV\n",
    "from sklearn.neighbors import KNeighborsClassifier\n",
    "from sklearn.model_selection import cross_val_score\n",
    "from sklearn.model_selection import train_test_split\n",
    "from sklearn.ensemble import RandomForestClassifier\n",
    "\n",
    "%matplotlib inline\n",
    "matplotlib.style.use('ggplot')"
   ]
  },
  {
   "cell_type": "markdown",
   "metadata": {},
   "source": [
    "# Loading the data"
   ]
  },
  {
   "cell_type": "code",
   "execution_count": 597,
   "metadata": {},
   "outputs": [],
   "source": [
    "# Loading train data and test data\n",
    "data_train = pd.read_csv('./train.csv')\n",
    "data_test = pd.read_csv('./test.csv')"
   ]
  },
  {
   "cell_type": "markdown",
   "metadata": {},
   "source": [
    "## Cleaning the data"
   ]
  },
  {
   "cell_type": "code",
   "execution_count": 598,
   "metadata": {},
   "outputs": [],
   "source": [
    "X_train = data_train.drop(\"Survived\", axis=1)\n",
    "Y_train = data_train[\"Survived\"]\n",
    "X_test  = data_test.drop(\"PassengerId\", axis=1).copy()\n",
    "\n",
    "\n",
    "#Function for splitting ages into 3 categories (child, young, old, very_old)\n",
    "def split_ages(age):\n",
    "    if age < 18: return 0 #child\n",
    "    elif age >= 18 and age < 32: return 1 #young\n",
    "    elif age >= 32 and age < 56: return 2 #old\n",
    "    elif age >= 56: return 3 #very_old\n",
    "\n",
    "\n",
    "# Removing useless columns and doing some useful transformations\n",
    "X_train = X_train.drop(['PassengerId', 'Name', 'Ticket', 'Cabin', 'Embarked'], 1) # Removing columns that don't serve us\n",
    "X_train['Sex'] = X_train['Sex'].map({'female': 1, 'male': 0} ).astype(int) # Getting dummies variables from Sex\n",
    "X_train[\"Age\"] = X_train[\"Age\"].fillna(int(X_train[\"Age\"].mean())) # Filling missing ages\n",
    "X_train[\"Age\"] = X_train[\"Age\"].map(split_ages) #Splitting ages into categories\n",
    "X_train = pd.concat([X_train, pd.get_dummies(data_train[\"Embarked\"])], axis=1) # Getting dummies variables from Embarked\n",
    "\n",
    "X_test = X_test.drop(['Name', 'Ticket', 'Cabin', 'Embarked'], 1)\n",
    "X_test['Sex'] = X_test['Sex'].map({'female': 1, 'male': 0} ).astype(int)\n",
    "X_test = X_test.fillna(0)\n",
    "X_test[\"Age\"] = X_test[\"Age\"].map(split_ages)\n",
    "X_test = pd.concat([X_test, pd.get_dummies(data_test[\"Embarked\"])], axis=1)"
   ]
  },
  {
   "cell_type": "markdown",
   "metadata": {},
   "source": [
    "## Creating the model and fitting it"
   ]
  },
  {
   "cell_type": "code",
   "execution_count": 599,
   "metadata": {},
   "outputs": [],
   "source": [
    "#classifier = KNeighborsClassifier(n_neighbors = 7)\n",
    "#classifier = LogisticRegression()\n",
    "#classifier = tree.DecisionTreeClassifier()\n",
    "classifier = RandomForestClassifier(n_estimators=100)"
   ]
  },
  {
   "cell_type": "code",
   "execution_count": 600,
   "metadata": {},
   "outputs": [
    {
     "data": {
      "text/plain": [
       "RandomForestClassifier(bootstrap=True, class_weight=None, criterion='gini',\n",
       "            max_depth=None, max_features='auto', max_leaf_nodes=None,\n",
       "            min_impurity_split=1e-07, min_samples_leaf=1,\n",
       "            min_samples_split=2, min_weight_fraction_leaf=0.0,\n",
       "            n_estimators=100, n_jobs=1, oob_score=False, random_state=None,\n",
       "            verbose=0, warm_start=False)"
      ]
     },
     "execution_count": 600,
     "metadata": {},
     "output_type": "execute_result"
    }
   ],
   "source": [
    "classifier.fit(X_train, Y_train)"
   ]
  },
  {
   "cell_type": "markdown",
   "metadata": {},
   "source": [
    "## Trying to predict data from the test set"
   ]
  },
  {
   "cell_type": "code",
   "execution_count": 594,
   "metadata": {},
   "outputs": [],
   "source": [
    "Y_pred = classifier.predict(X_test)"
   ]
  },
  {
   "cell_type": "markdown",
   "metadata": {},
   "source": [
    "## Measuring the accuracy of the model"
   ]
  },
  {
   "cell_type": "code",
   "execution_count": 595,
   "metadata": {},
   "outputs": [
    {
     "name": "stdout",
     "output_type": "stream",
     "text": [
      "Accuracy: 0.82 (+/- 0.12)\n"
     ]
    }
   ],
   "source": [
    "#score = classifier.score(X_train, Y_train)\n",
    "score = cross_val_score(classifier, X_train, Y_train, cv=30)\n",
    "print(\"Accuracy: %0.2f (+/- %0.2f)\" % (score.mean(), score.std() * 2))"
   ]
  },
  {
   "cell_type": "markdown",
   "metadata": {},
   "source": [
    "## Saving results into a file"
   ]
  },
  {
   "cell_type": "code",
   "execution_count": 584,
   "metadata": {},
   "outputs": [],
   "source": [
    "output = open(\"output.csv\", 'w')\n",
    "output.write(\"PassengerId,Survived\\n\")\n",
    "for i in range(len(Y_pred)):\n",
    "    output.write(\"{},{}\\n\".format(data_test[\"PassengerId\"][i], Y_pred[i]))\n",
    "output.close()"
   ]
  }
 ],
 "metadata": {
  "kernelspec": {
   "display_name": "Python 3",
   "language": "python",
   "name": "python3"
  },
  "language_info": {
   "codemirror_mode": {
    "name": "ipython",
    "version": 3
   },
   "file_extension": ".py",
   "mimetype": "text/x-python",
   "name": "python",
   "nbconvert_exporter": "python",
   "pygments_lexer": "ipython3",
   "version": "3.6.1"
  }
 },
 "nbformat": 4,
 "nbformat_minor": 2
}
